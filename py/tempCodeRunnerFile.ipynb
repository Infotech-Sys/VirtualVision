while True:
    cv.imshow('image',result_image)
    if cv.waitKey(1) & 0xFF == ord('q'):
        break
cv.destroyAllWindows()