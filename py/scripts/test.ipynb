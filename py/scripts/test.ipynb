{
 "cells": [
  {
   "cell_type": "code",
   "execution_count": null,
   "metadata": {},
   "outputs": [],
   "source": [
    "import cv2 as cv\n",
    "import numpy as np"
   ]
  },
  {
   "cell_type": "code",
   "execution_count": null,
   "metadata": {},
   "outputs": [],
   "source": [
    "image = np.ones((600,500,3),np.uint8)\n",
    "image = image*255\n",
    "# image = cv.imread('test.jpg',cv.IMREAD_COLOR)\n",
    "print(image.shape)\n",
    "for i in range(0,image.shape[1],10):\n",
    "    for j in range(0,image.shape[0],10):\n",
    "        print(i,j)\n",
    "        # image = cv.circle(image,(i,j),3,(0,0,0),-1)\n",
    "        image = cv.rectangle\n",
    "cv.imshow('image',image)\n",
    "while True:\n",
    "    if cv.waitKey(1) & 0xFF == ord('q'):\n",
    "        break\n",
    "cv.destroyAllWindows()"
   ]
  },
  {
   "cell_type": "code",
   "execution_count": 20,
   "metadata": {},
   "outputs": [],
   "source": [
    "images=[]\n",
    "images.append(cv.imread('red.jpg'))\n",
    "images.append(cv.imread('green.jpg'))\n",
    "images.append(cv.imread('orange.jpg'))\n",
    "images.append(cv.imread('yellow.jpg'))\n",
    "\n",
    "result_image = images[0]\n",
    "for i in images[1:]:\n",
    "    result_image = cv.bitwise_or(result_image,i)\n",
    "\n",
    "cv.imshow('result',result_image)\n",
    "while True:\n",
    "    if cv.waitKey(1) & 0xFF == ord('q'):\n",
    "        break\n",
    "cv.destroyAllWindows()"
   ]
  },
  {
   "cell_type": "code",
   "execution_count": null,
   "metadata": {},
   "outputs": [],
   "source": []
  }
 ],
 "metadata": {
  "kernelspec": {
   "display_name": "Python 3.7.0 ('all')",
   "language": "python",
   "name": "python3"
  },
  "language_info": {
   "codemirror_mode": {
    "name": "ipython",
    "version": 3
   },
   "file_extension": ".py",
   "mimetype": "text/x-python",
   "name": "python",
   "nbconvert_exporter": "python",
   "pygments_lexer": "ipython3",
   "version": "3.7.0"
  },
  "orig_nbformat": 4,
  "vscode": {
   "interpreter": {
    "hash": "0afc31e53d907d230ce82043e54671d3c8fb85c29cf7012e61109c85679412fd"
   }
  }
 },
 "nbformat": 4,
 "nbformat_minor": 2
}
