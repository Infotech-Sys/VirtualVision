{
 "cells": [
  {
   "cell_type": "code",
   "execution_count": 2,
   "metadata": {},
   "outputs": [],
   "source": [
    "import cv2 as cv\n",
    "import numpy as np\n",
    "from matplotlib import pyplot as plt"
   ]
  },
  {
   "cell_type": "code",
   "execution_count": null,
   "metadata": {},
   "outputs": [],
   "source": [
    "def OnChangeFunc(x):\n",
    "    print(x)\n",
    "\n",
    "cv.namedWindow(\"image\")\n",
    "\n",
    "cv.createTrackbar('th1','image',0,255,OnChangeFunc)\n",
    "cv.createTrackbar('th2','image',0,255,OnChangeFunc)\n",
    "cv.createTrackbar('kernelsize','image',1,10,OnChangeFunc)\n",
    "cv.createTrackbar('l2gradient','image',0,1,OnChangeFunc)\n",
    "\n",
    "def CannyEdgeDetector(img):\n",
    "    prev_th1=0\n",
    "    prev_th2=0\n",
    "    prev_kernelsize=0\n",
    "    img = cv.cvtColor(img,cv.COLOR_BGR2GRAY)\n",
    "    canny_image = cv.Canny(img,0,0)\n",
    "    dilated_image = cv.dilate(canny_image,np.ones((1,1),np.uint8))\n",
    "    while True:\n",
    "        cur_th1 = cv.getTrackbarPos('th1','image')\n",
    "        cur_th2 = cv.getTrackbarPos('th2','image')\n",
    "        if prev_th1 != cur_th1 or prev_th2 != cur_th2:\n",
    "            canny_image = cv.Canny(img,cur_th1,cur_th2)\n",
    "            prev_th1 ,prev_th2 = cur_th1,cur_th2\n",
    "        cur_kernel_size = cv.getTrackbarPos('kernelsize','image')\n",
    "        if prev_kernelsize != cur_kernel_size:\n",
    "            dilated_image = cv.dilate(canny_image,np.ones((cur_kernel_size,cur_kernel_size),np.uint8))\n",
    "            prev_kernelsize = cur_kernel_size\n",
    "        final_image = cv.bitwise_not(dilated_image)\n",
    "        cv.imshow(\"image\",dilated_image)\n",
    "        if cv.waitKey(1) & 0xFF == ord('q'):\n",
    "            break\n",
    "    cv.destroyAllWindows()    \n",
    "\n",
    "img = cv.imread('/home/sri/VirtualVision/data/sample/eye2.jpg',cv.IMREAD_ANYCOLOR)\n",
    "CannyEdgeDetector(img)"
   ]
  },
  {
   "cell_type": "code",
   "execution_count": 16,
   "metadata": {},
   "outputs": [],
   "source": [
    "def auto_canny(image, sigma=0.33):\n",
    "\tv = np.median(image)\n",
    "\tlower = int(max(0, (1.0 - sigma) * v))\n",
    "\tupper = int(min(255, (1.0 + sigma) * v))\n",
    "\tedged = cv.Canny(image, lower, upper)\n",
    "\treturn edged\n",
    "\n",
    "\n",
    "img = cv.imread(\"/home/sri/Downloads/Telegram Desktop/photo_2022-08-11_16-38-35.jpg\")\n",
    "img = cv.cvtColor(img,cv.COLOR_BGR2GRAY)\n",
    "img = cv.GaussianBlur(img,(3,3),0)\n",
    "result_img = auto_canny(img)\n",
    "result_img = cv.dilate(result_img,np.ones((3,3),np.uint8))\n",
    "cv.imshow('Image',cv.bitwise_not(result_img))\n",
    "while True:\n",
    "\tif cv.waitKey(1) & 0xFF == ord('q'):\n",
    "\t\tbreak\n",
    "cv.destroyAllWindows()"
   ]
  },
  {
   "cell_type": "code",
   "execution_count": 46,
   "metadata": {},
   "outputs": [],
   "source": [
    "def DetectEdges(img,sigma=0.33):\n",
    "    a = np.median(img)\n",
    "    lower = int(max(0,(1.0-sigma)*a))\n",
    "    upper = int(min(255,(1.0+sigma)*a))\n",
    "    edges = cv.Canny(img,lower,upper)\n",
    "    return edges\n",
    "\n",
    "def AutomaticCannyDetection(img):\n",
    "    # b,g,r = cv.split(img)\n",
    "\n",
    "    # b_edge = DetectEdges(b)\n",
    "    # g_edge = DetectEdges(g)\n",
    "    # r_edge = DetectEdges(r)\n",
    "\n",
    "    # result_img = cv.merge((b_edge,g_edge,r_edge))\n",
    "\n",
    "    img = cv.cvtColor(img,cv.COLOR_BGR2GRAY)\n",
    "    result_img = DetectEdges(img,0.90)\n",
    "    return result_img\n",
    "\n",
    "img = cv.imread(\"/home/sri/VirtualVision/data/book_sample_image/chapter-1/Figure_1_1.png\")\n",
    "result_img = AutomaticCannyDetection(img)\n",
    "dilated_img = cv.dilate(result_img,np.ones((3,3),np.uint8))\n",
    "output = cv.bitwise_not(dilated_img)\n",
    "cv.imshow('image',output)\n",
    "cv.imshow('img',img)\n",
    "while True:\n",
    "    if cv.waitKey(1) & 0xFF == ord('q'):    \n",
    "        break\n",
    "cv.destroyAllWindows()"
   ]
  }
 ],
 "metadata": {
  "kernelspec": {
   "display_name": "Python 3.7.0 ('all')",
   "language": "python",
   "name": "python3"
  },
  "language_info": {
   "codemirror_mode": {
    "name": "ipython",
    "version": 3
   },
   "file_extension": ".py",
   "mimetype": "text/x-python",
   "name": "python",
   "nbconvert_exporter": "python",
   "pygments_lexer": "ipython3",
   "version": "3.7.0"
  },
  "orig_nbformat": 4,
  "vscode": {
   "interpreter": {
    "hash": "0afc31e53d907d230ce82043e54671d3c8fb85c29cf7012e61109c85679412fd"
   }
  }
 },
 "nbformat": 4,
 "nbformat_minor": 2
}
