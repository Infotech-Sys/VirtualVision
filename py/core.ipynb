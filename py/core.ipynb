{
 "cells": [
  {
   "cell_type": "code",
   "execution_count": 2,
   "metadata": {},
   "outputs": [],
   "source": [
    "import cv2 as cv\n",
    "import numpy as np\n",
    "from matplotlib import pyplot as plt"
   ]
  },
  {
   "cell_type": "code",
   "execution_count": 80,
   "metadata": {},
   "outputs": [],
   "source": [
    "\n",
    "def TactileGenerator(image):\n",
    "    orginal_image = image.copy()\n",
    "    gray_scale_image = cv.cvtColor(image,cv.COLOR_BGR2GRAY)\n",
    "    otsu_threshold_value, threshold_image = cv.threshold(gray_scale_image,0,255,cv.THRESH_BINARY+cv.THRESH_OTSU)\n",
    "\n",
    "    blured_image = cv.GaussianBlur(image,(3,3),1)\n",
    "\n",
    "    threshold1 = otsu_threshold_value - 40\n",
    "    threshold2 = otsu_threshold_value + 40\n",
    "\n",
    "    canny_edge_detected_image = cv.Canny(blured_image,threshold1,threshold2)\n",
    "    white_bg_edge_image = cv.bitwise_not(canny_edge_detected_image)\n",
    "\n",
    "    contours, hierarchy = cv.findContours(white_bg_edge_image,cv.RETR_TREE,cv.CHAIN_APPROX_SIMPLE)\n",
    "\n",
    "    contours_edge_image = np.ones_like(image) * 255\n",
    "    cv.drawContours(contours_edge_image,contours,-1,(0,0,0),2,cv.LINE_8)\n",
    "\n",
    "    kernel_mat = np.ones((3,3),np.int8)\n",
    "    \n",
    "    # result_image = cv.GaussianBlur(contours_edge_image,(3,3),1)\n",
    "    # result_image = cv.erode(result_image,kernel_mat,iterations=1)\n",
    "    # result_image = cv.dilate(contours_edge_image,kernel_mat,iterations=1)\n",
    "\n",
    "    border_gray_image = np.float64(contours_edge_image) / 255\n",
    "    border_color_image = np.uint8(orginal_image * border_gray_image)\n",
    "\n",
    "\n",
    "    return border_color_image\n",
    "\n",
    "image = cv.imread('/home/sri/VirtualVision/data/sample/digestive_system.jpg',cv.IMREAD_COLOR)\n",
    "result_image = TactileGenerator(image)\n",
    "while True:\n",
    "    cv.imshow('image',result_image)\n",
    "    if cv.waitKey(1) & 0xFF == ord('q'):\n",
    "        break\n",
    "cv.destroyAllWindows()"
   ]
  },
  {
   "cell_type": "code",
   "execution_count": 1,
   "metadata": {},
   "outputs": [],
   "source": [
    "from scripts import TacGen"
   ]
  },
  {
   "cell_type": "code",
   "execution_count": 22,
   "metadata": {},
   "outputs": [],
   "source": [
    "def pattern():\n",
    "    pattern_image = np.ones((2000,2000),np.uint8) * 255\n",
    "\n",
    "    for i in range(0,2000,10):\n",
    "        for j in range(0,2000,10):\n",
    "            cv.circle(pattern_image,(i,j),3,(0,0,0),-1)\n",
    "\n",
    "\n",
    "    return pattern_image\n",
    "    \n",
    "result_image = pattern()\n",
    "while True:\n",
    "    cv.imshow('image',result_image)\n",
    "    if cv.waitKey(1) & 0xFF == ord('q'):\n",
    "        break\n",
    "cv.destroyAllWindows()"
   ]
  },
  {
   "cell_type": "code",
   "execution_count": 10,
   "metadata": {},
   "outputs": [],
   "source": []
  },
  {
   "cell_type": "code",
   "execution_count": null,
   "metadata": {},
   "outputs": [],
   "source": []
  }
 ],
 "metadata": {
  "kernelspec": {
   "display_name": "Python 3.7.0 ('all')",
   "language": "python",
   "name": "python3"
  },
  "language_info": {
   "codemirror_mode": {
    "name": "ipython",
    "version": 3
   },
   "file_extension": ".py",
   "mimetype": "text/x-python",
   "name": "python",
   "nbconvert_exporter": "python",
   "pygments_lexer": "ipython3",
   "version": "3.7.0"
  },
  "orig_nbformat": 4,
  "vscode": {
   "interpreter": {
    "hash": "0afc31e53d907d230ce82043e54671d3c8fb85c29cf7012e61109c85679412fd"
   }
  }
 },
 "nbformat": 4,
 "nbformat_minor": 2
}
